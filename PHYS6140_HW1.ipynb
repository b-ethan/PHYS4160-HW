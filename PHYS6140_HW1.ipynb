{
  "nbformat": 4,
  "nbformat_minor": 0,
  "metadata": {
    "colab": {
      "provenance": []
    },
    "kernelspec": {
      "name": "python3",
      "display_name": "Python 3"
    },
    "language_info": {
      "name": "python"
    }
  },
  "cells": [
    {
      "cell_type": "markdown",
      "source": [
        "# Homework Q1\n",
        "Probability of getting 4 or less questions wrong on a multiple choice test"
      ],
      "metadata": {
        "id": "0o4ApjZ2yinj"
      }
    },
    {
      "cell_type": "code",
      "execution_count": 18,
      "metadata": {
        "id": "yywc4uHhxYOR"
      },
      "outputs": [],
      "source": [
        "import numpy as np\n",
        "import random"
      ]
    },
    {
      "cell_type": "code",
      "source": [
        "nquestions = 12\n",
        "nchoices = 5\n",
        "\n",
        "count = 0\n",
        "ntrials = 1000000"
      ],
      "metadata": {
        "id": "EgKEHUwtxoms"
      },
      "execution_count": 19,
      "outputs": []
    },
    {
      "cell_type": "code",
      "source": [
        "for i in range(ntrials):\n",
        "    count_correct = 0\n",
        "    for t in range(nquestions):\n",
        "\n",
        "        if random.uniform(0,1) < 1.0/nchoices:\n",
        "            count_correct += 1\n",
        "\n",
        "    if count_correct <= 4:\n",
        "        count += 1"
      ],
      "metadata": {
        "id": "ie5Ucg96xt90"
      },
      "execution_count": 20,
      "outputs": []
    },
    {
      "cell_type": "code",
      "source": [
        "print(\"The Probability of getting 4 or less correct on the multiple choice test is: \",count/ntrials)"
      ],
      "metadata": {
        "colab": {
          "base_uri": "https://localhost:8080/"
        },
        "id": "MeYmlGLAxxs6",
        "outputId": "a2d0f3dc-cf2f-49b7-b0b9-df0c246fd66c"
      },
      "execution_count": 21,
      "outputs": [
        {
          "output_type": "stream",
          "name": "stdout",
          "text": [
            "The Probability of getting 4 or less correct on the multiple choice test is:  0.927417\n"
          ]
        }
      ]
    },
    {
      "cell_type": "markdown",
      "source": [
        "# Q2\n",
        "\n",
        "Probability of getting exactly 4 smokers from a population with and without replacement"
      ],
      "metadata": {
        "id": "veR-nWKEyzfK"
      }
    },
    {
      "cell_type": "markdown",
      "source": [
        "First with replacement"
      ],
      "metadata": {
        "id": "WTWV8YxRzN4T"
      }
    },
    {
      "cell_type": "code",
      "source": [
        "npicks = 10\n",
        "\n",
        "count = 0\n",
        "ntrials = 1000000\n",
        "\n",
        "n_smoke = 350\n",
        "n_nosmoke = 650"
      ],
      "metadata": {
        "id": "a9IzWxUuy86b"
      },
      "execution_count": 22,
      "outputs": []
    },
    {
      "cell_type": "code",
      "source": [
        "for i in range(ntrials):\n",
        "    count_smoke = 0\n",
        "    for t in range(npicks):\n",
        "\n",
        "        if random.uniform(0,(n_smoke+n_nosmoke)) <= n_smoke:\n",
        "            count_smoke += 1\n",
        "\n",
        "    if count_smoke == 4:\n",
        "        count += 1"
      ],
      "metadata": {
        "id": "Nnn06LKozBwD"
      },
      "execution_count": 23,
      "outputs": []
    },
    {
      "cell_type": "code",
      "source": [
        "print(\"with replacement\",count/ntrials)"
      ],
      "metadata": {
        "colab": {
          "base_uri": "https://localhost:8080/"
        },
        "id": "aTkNwFkvzGi7",
        "outputId": "d454a777-67cd-49ae-d0d6-aa6d5511cbb7"
      },
      "execution_count": 24,
      "outputs": [
        {
          "output_type": "stream",
          "name": "stdout",
          "text": [
            "with replacement 0.237547\n"
          ]
        }
      ]
    },
    {
      "cell_type": "markdown",
      "source": [
        "Now without replacement"
      ],
      "metadata": {
        "id": "dd1NIxb7zJKa"
      }
    },
    {
      "cell_type": "code",
      "source": [
        "count_wo = 0"
      ],
      "metadata": {
        "id": "bzlRnCk3zMp0"
      },
      "execution_count": 25,
      "outputs": []
    },
    {
      "cell_type": "code",
      "source": [
        "for i in range(ntrials):\n",
        "    count_wo_smoke = 0\n",
        "    n_smoke = 350\n",
        "    n_nosmoke = 650\n",
        "    for t in range(npicks):\n",
        "\n",
        "        if random.uniform(0,(n_smoke+n_nosmoke)) <= n_smoke:\n",
        "            count_wo_smoke += 1\n",
        "            n_smoke += -1\n",
        "        else:\n",
        "            n_nosmoke += -1\n",
        "\n",
        "    if count_wo_smoke == 4:\n",
        "        count_wo += 1"
      ],
      "metadata": {
        "id": "FbnlAwN3zS2L"
      },
      "execution_count": 26,
      "outputs": []
    },
    {
      "cell_type": "code",
      "source": [
        "print(\"without replacement\",count_wo/ntrials)"
      ],
      "metadata": {
        "colab": {
          "base_uri": "https://localhost:8080/"
        },
        "id": "OVcbGn6uzVNT",
        "outputId": "a4ff8744-9007-499f-baf5-d2d8b0cf18a3"
      },
      "execution_count": 27,
      "outputs": [
        {
          "output_type": "stream",
          "name": "stdout",
          "text": [
            "without replacement 0.238596\n"
          ]
        }
      ]
    },
    {
      "cell_type": "markdown",
      "source": [
        "These are consistent with the theoretical values seen in class"
      ],
      "metadata": {
        "id": "2VZ_NGg9zsEz"
      }
    },
    {
      "cell_type": "code",
      "source": [],
      "metadata": {
        "id": "BN4aQBXWz3qr"
      },
      "execution_count": null,
      "outputs": []
    }
  ]
}
