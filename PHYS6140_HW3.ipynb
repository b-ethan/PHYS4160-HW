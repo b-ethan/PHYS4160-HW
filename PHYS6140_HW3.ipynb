{
 "cells": [
  {
   "cell_type": "code",
   "execution_count": 1,
   "metadata": {},
   "outputs": [],
   "source": [
    "import numpy as np\n",
    "import random"
   ]
  },
  {
   "cell_type": "code",
   "execution_count": 3,
   "metadata": {},
   "outputs": [
    {
     "name": "stdout",
     "output_type": "stream",
     "text": [
      "14.7506\n"
     ]
    }
   ],
   "source": [
    "count_tot = 0\n",
    "attempts = 10000\n",
    "for i in range(attempts):\n",
    "    x = []\n",
    "    count = 0\n",
    "    while len(x) < 6:\n",
    "        count += 1\n",
    "        roll = random.randint(1,6)\n",
    "        if roll in x:\n",
    "            continue\n",
    "        else:\n",
    "            x.append(roll)\n",
    "            #print(x)\n",
    "    #print(count)\n",
    "    count_tot += count\n",
    "\n",
    "print(\"average number of rolls to see all 6 sides: \",count_tot/attempts)"
   ]
  }
 ],
 "metadata": {
  "kernelspec": {
   "display_name": "ML_package",
   "language": "python",
   "name": "python3"
  },
  "language_info": {
   "codemirror_mode": {
    "name": "ipython",
    "version": 3
   },
   "file_extension": ".py",
   "mimetype": "text/x-python",
   "name": "python",
   "nbconvert_exporter": "python",
   "pygments_lexer": "ipython3",
   "version": "3.10.13"
  }
 },
 "nbformat": 4,
 "nbformat_minor": 2
}
