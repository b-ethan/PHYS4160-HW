{
  "nbformat": 4,
  "nbformat_minor": 0,
  "metadata": {
    "colab": {
      "provenance": []
    },
    "kernelspec": {
      "name": "python3",
      "display_name": "Python 3"
    },
    "language_info": {
      "name": "python"
    }
  },
  "cells": [
    {
      "cell_type": "code",
      "execution_count": 1,
      "metadata": {
        "id": "0v3-BRmJiDW-"
      },
      "outputs": [],
      "source": [
        "import numpy as np\n",
        "import math\n",
        "import matplotlib.pyplot as plt"
      ]
    },
    {
      "cell_type": "code",
      "source": [
        "n_iter = 100000\n",
        "\n",
        "count_store = np.array([])\n",
        "for i in range(0,n_iter):\n",
        "  counter = 1\n",
        "  unique = np.random.randint(low=1,high=7, size=1)\n",
        "  while len(unique) < 6:\n",
        "    counter += 1\n",
        "    x = np.random.randint(low=1,high=7, size=1)\n",
        "    if np.isin(x,unique):\n",
        "      continue\n",
        "    else:\n",
        "      unique = np.append(unique,x)\n",
        "  count_store = np.append(count_store,counter)\n",
        "\n"
      ],
      "metadata": {
        "id": "q1jGaIn-jgn_"
      },
      "execution_count": 70,
      "outputs": []
    },
    {
      "cell_type": "code",
      "source": [
        "count_store.mean()"
      ],
      "metadata": {
        "colab": {
          "base_uri": "https://localhost:8080/"
        },
        "id": "4uEIWKKiqCb1",
        "outputId": "0f00c084-f396-49ea-b4c2-9398687023be"
      },
      "execution_count": 72,
      "outputs": [
        {
          "output_type": "execute_result",
          "data": {
            "text/plain": [
              "14.72473"
            ]
          },
          "metadata": {},
          "execution_count": 72
        }
      ]
    },
    {
      "cell_type": "code",
      "source": [
        "plt.hist(count_store,bins=np.arange(0,50,1))"
      ],
      "metadata": {
        "colab": {
          "base_uri": "https://localhost:8080/",
          "height": 617
        },
        "id": "ulq6UZB7ttpa",
        "outputId": "9532ba10-b88d-4351-b0b7-09f9a1ef8858"
      },
      "execution_count": 75,
      "outputs": [
        {
          "output_type": "execute_result",
          "data": {
            "text/plain": [
              "(array([   0.,    0.,    0.,    0.,    0.,    0., 1549., 3834., 5781.,\n",
              "        7516., 8401., 8458., 8137., 7735., 6831., 6170., 5273., 4671.,\n",
              "        3853., 3553., 2841., 2484., 2146., 1769., 1477., 1221., 1023.,\n",
              "         866.,  717.,  642.,  533.,  414.,  341.,  281.,  270.,  207.,\n",
              "         157.,  130.,  118.,  100.,   81.,   67.,   67.,   44.,   51.,\n",
              "          30.,   22.,   22.,   37.]),\n",
              " array([ 0.,  1.,  2.,  3.,  4.,  5.,  6.,  7.,  8.,  9., 10., 11., 12.,\n",
              "        13., 14., 15., 16., 17., 18., 19., 20., 21., 22., 23., 24., 25.,\n",
              "        26., 27., 28., 29., 30., 31., 32., 33., 34., 35., 36., 37., 38.,\n",
              "        39., 40., 41., 42., 43., 44., 45., 46., 47., 48., 49.]),\n",
              " <BarContainer object of 49 artists>)"
            ]
          },
          "metadata": {},
          "execution_count": 75
        },
        {
          "output_type": "display_data",
          "data": {
            "text/plain": [
              "<Figure size 640x480 with 1 Axes>"
            ],
            "image/png": "[encoded data removed]"
          },
          "metadata": {}
        }
      ]
    },
    {
      "cell_type": "code",
      "source": [],
      "metadata": {
        "id": "4hdCDY5rtzC5"
      },
      "execution_count": null,
      "outputs": []
    }
  ]
}