{
 "cells": [
  {
   "cell_type": "code",
   "execution_count": 2,
   "metadata": {},
   "outputs": [],
   "source": [
    "import numpy as np\n",
    "import matplotlib.pyplot as plt\n",
    "\n",
    "\n",
    "xvals = (0,1,2)\n",
    "sigmavals = (0.1,0.1,0.1)\n",
    "npar = 3\n",
    "\n",
    "F = np.zeros([npar,npar])\n",
    "r0 = 1\n",
    "I0 = 1"
   ]
  },
  {
   "cell_type": "code",
   "execution_count": 3,
   "metadata": {},
   "outputs": [
    {
     "name": "stdout",
     "output_type": "stream",
     "text": [
      "Fisher information matrix: \n",
      "[[115.36509221 150.32147244  17.1966561 ]\n",
      " [150.32147244 300.          63.85500076]\n",
      " [ 17.1966561   63.85500076  20.85978388]]\n",
      "Covariance matrix: \n",
      "[[ 0.1009114  -0.09429837  0.20547115]\n",
      " [-0.09429837  0.09768534 -0.22129091]\n",
      " [ 0.20547115 -0.22129091  0.55595565]]\n"
     ]
    }
   ],
   "source": [
    "for x,sigma in zip(xvals,sigmavals):\n",
    "    for i in range(npar):\n",
    "        if i == 0:\n",
    "            dfdpi = np.exp(-x)\n",
    "        elif i == 1:\n",
    "            dfdpi = 1\n",
    "        else:\n",
    "            dfdpi =  I0*x*np.exp(-x)/r0\n",
    "        for j in range(npar):\n",
    "            if j == 0:\n",
    "                dfdpj = np.exp(-x)\n",
    "            elif j == 1:\n",
    "                dfdpj = 1\n",
    "            else:\n",
    "                dfdpj = I0*x*np.exp(-x)/r0\n",
    "            F[i,j] += (1/sigma**2)*dfdpi*dfdpj\n",
    "\n",
    "print(\"Fisher information matrix: \")\n",
    "print(F)\n",
    "\n",
    "print(\"Covariance matrix: \")\n",
    "print(np.mat(F).I)"
   ]
  },
  {
   "attachments": {},
   "cell_type": "markdown",
   "metadata": {},
   "source": [
    "adding prior information to parameter b"
   ]
  },
  {
   "cell_type": "code",
   "execution_count": 4,
   "metadata": {},
   "outputs": [
    {
     "name": "stdout",
     "output_type": "stream",
     "text": [
      "Fisher information matrix: \n",
      "[[115.36509221 150.32147244  17.1966561 ]\n",
      " [150.32147244 300.25        63.85500076]\n",
      " [ 17.1966561   63.85500076  20.85978388]]\n",
      "Covariance matrix: \n",
      "[[ 0.09874135 -0.09205037  0.20037867]\n",
      " [-0.09205037  0.0953566  -0.21601553]\n",
      " [ 0.20037867 -0.21601553  0.54400508]]\n"
     ]
    }
   ],
   "source": [
    "prior_b = 2\n",
    "F[1,1] += 1/prior_b**2\n",
    "\n",
    "print(\"Fisher information matrix: \")\n",
    "print(F)\n",
    "\n",
    "print(\"Covariance matrix: \")\n",
    "print(np.mat(F).I)"
   ]
  }
 ],
 "metadata": {
  "kernelspec": {
   "display_name": "tensorflow2",
   "language": "python",
   "name": "python3"
  },
  "language_info": {
   "codemirror_mode": {
    "name": "ipython",
    "version": 3
   },
   "file_extension": ".py",
   "mimetype": "text/x-python",
   "name": "python",
   "nbconvert_exporter": "python",
   "pygments_lexer": "ipython3",
   "version": "3.10.11"
  },
  "orig_nbformat": 4
 },
 "nbformat": 4,
 "nbformat_minor": 2
}
